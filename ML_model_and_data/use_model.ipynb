{
 "cells": [
  {
   "cell_type": "code",
   "execution_count": 40,
   "metadata": {},
   "outputs": [
    {
     "name": "stdout",
     "output_type": "stream",
     "text": [
      "1/1 [==============================] - 0s 237ms/step\n",
      "[[0.03439355]]\n",
      "Zagrozenie w skali 0-2:\n",
      "0-brak, 1-potencjalne, 2-wysokie\n",
      "Zagrozenie pump&dump dla naszej krypto:  0\n"
     ]
    },
    {
     "data": {
      "text/plain": [
       "0"
      ]
     },
     "execution_count": 40,
     "metadata": {},
     "output_type": "execute_result"
    }
   ],
   "source": [
    "# Importowanie modułów\n",
    "import numpy as np\n",
    "import pandas as pd\n",
    "from keras.models import load_model\n",
    "\n",
    "#Zakomentuj linijke z best model i odkomentuj linijke z sciezka do pliku\n",
    "def predict_if_PumpDump(sciezka_do_pliku):\n",
    "    best_model = load_model('saved_models_final2/model_epoch_171.hdf5')\n",
    "    #best_model = load_model(sciezka_do_pliku)\n",
    "\n",
    "    # Wczytanie danych z ostatnich 20 dni z pliku\n",
    "    #recent_data = pd.read_csv('test2_Verge.csv') \n",
    "    #recent_data = pd.read_csv('Magi_part1.csv') \n",
    "    #recent_data = pd.read_csv('ONE_merged.csv') \n",
    "    #recent_data = pd.read_csv('test3_xrp.csv') \n",
    "    recent_data = pd.read_csv('test1_TRON.csv') \n",
    "    #recent_data = pd.read_csv('Magi_part1.csv') \n",
    "    recent_data = recent_data[['Close', 'compound', 'likes', 'retweets']]\n",
    "    recent_data = recent_data.tail(20).values.astype('float32')\n",
    "\n",
    "    recent_data = np.reshape(recent_data, (1, recent_data.shape[0], recent_data.shape[1]))\n",
    "\n",
    "    X_recent = recent_data.copy()\n",
    "    prediction = best_model.predict(X_recent)\n",
    "    print(prediction)\n",
    "    ifPumpDump = 0\n",
    "    if prediction[0][0] < 0.15:\n",
    "        ifPumpDump = 0\n",
    "    elif prediction[0][0] < 0.3:\n",
    "        ifPumpDump = 1\n",
    "    else:\n",
    "        ifPumpDump = 2\n",
    "    print(\"Zagrozenie w skali 0-2:\")\n",
    "    print(\"0-brak, 1-potencjalne, 2-wysokie\")\n",
    "    print(\"Zagrozenie pump&dump dla naszej krypto: \", ifPumpDump) #\n",
    "    return ifPumpDump\n",
    "\n",
    "predict_if_PumpDump('')\n",
    "\n"
   ]
  }
 ],
 "metadata": {
  "kernelspec": {
   "display_name": "Python 3",
   "language": "python",
   "name": "python3"
  },
  "language_info": {
   "codemirror_mode": {
    "name": "ipython",
    "version": 3
   },
   "file_extension": ".py",
   "mimetype": "text/x-python",
   "name": "python",
   "nbconvert_exporter": "python",
   "pygments_lexer": "ipython3",
   "version": "3.11.6"
  }
 },
 "nbformat": 4,
 "nbformat_minor": 2
}
